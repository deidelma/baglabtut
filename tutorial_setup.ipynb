{
 "cells": [
  {
   "cell_type": "markdown",
   "metadata": {},
   "source": [
    "# Baglole Lab Tutorial Setup\n",
    "\n",
    "This file contains the instructions to set up the tutorial."
   ]
  },
  {
   "cell_type": "markdown",
   "metadata": {},
   "source": [
    "If you haven't already done so, use wget to download the single cell data we'll be working with,\n",
    "which is from the `scanpy` tutorial."
   ]
  },
  {
   "cell_type": "code",
   "execution_count": 1,
   "metadata": {},
   "outputs": [
    {
     "name": "stdout",
     "output_type": "stream",
     "text": [
      "pbmc file already downloaded\n"
     ]
    },
    {
     "name": "stderr",
     "output_type": "stream",
     "text": [
      "7444it [00:00, 10773.50it/s]\n"
     ]
    }
   ],
   "source": [
    "import tut_init\n",
    "tut_init.install_pbmc_matrices()"
   ]
  },
  {
   "cell_type": "markdown",
   "metadata": {},
   "source": [
    "Now lets convert this file into a anndata structure for subsequent analysis"
   ]
  },
  {
   "cell_type": "code",
   "execution_count": 2,
   "metadata": {},
   "outputs": [
    {
     "ename": "ValueError",
     "evalue": "Can only assign pd.DataFrame to var.",
     "output_type": "error",
     "traceback": [
      "\u001b[0;31m---------------------------------------------------------------------------\u001b[0m",
      "\u001b[0;31mValueError\u001b[0m                                Traceback (most recent call last)",
      "Cell \u001b[0;32mIn[2], line 3\u001b[0m\n\u001b[1;32m      1\u001b[0m \u001b[38;5;28;01mfrom\u001b[39;00m \u001b[38;5;21;01mrdsad\u001b[39;00m \u001b[38;5;28;01mimport\u001b[39;00m seurat\n\u001b[1;32m      2\u001b[0m mtx, barcodes, features \u001b[38;5;241m=\u001b[39m seurat\u001b[38;5;241m.\u001b[39mread_10x_data(\u001b[38;5;124m\"\u001b[39m\u001b[38;5;124mdata\u001b[39m\u001b[38;5;124m\"\u001b[39m)\n\u001b[0;32m----> 3\u001b[0m adata \u001b[38;5;241m=\u001b[39m \u001b[43mseurat\u001b[49m\u001b[38;5;241;43m.\u001b[39;49m\u001b[43mcreate_adata\u001b[49m\u001b[43m(\u001b[49m\u001b[43mmtx\u001b[49m\u001b[43m,\u001b[49m\u001b[43m \u001b[49m\u001b[43mbarcodes\u001b[49m\u001b[43m,\u001b[49m\u001b[43m \u001b[49m\u001b[43mfeatures\u001b[49m\u001b[43m)\u001b[49m\n\u001b[1;32m      4\u001b[0m adata\u001b[38;5;241m.\u001b[39mwrite_h5ad(\u001b[38;5;124m\"\u001b[39m\u001b[38;5;124mdata/pbmc.h5ad\u001b[39m\u001b[38;5;124m\"\u001b[39m, compression\u001b[38;5;241m=\u001b[39m\u001b[38;5;124m'\u001b[39m\u001b[38;5;124mgzip\u001b[39m\u001b[38;5;124m'\u001b[39m)\n",
      "File \u001b[0;32m~/Projects/baglabtut/rdsad/seurat.py:120\u001b[0m, in \u001b[0;36mcreate_adata\u001b[0;34m(mtx, barcodes, features)\u001b[0m\n\u001b[1;32m    118\u001b[0m adata\u001b[38;5;241m.\u001b[39mobs_names \u001b[38;5;241m=\u001b[39m barcodes[\u001b[38;5;241m0\u001b[39m]  \u001b[38;5;66;03m# type:ignore\u001b[39;00m\n\u001b[1;32m    119\u001b[0m adata\u001b[38;5;241m.\u001b[39mobs\u001b[38;5;241m.\u001b[39mdrop(adata\u001b[38;5;241m.\u001b[39mobs[[\u001b[38;5;241m0\u001b[39m]], axis\u001b[38;5;241m=\u001b[39m\u001b[38;5;241m1\u001b[39m, inplace\u001b[38;5;241m=\u001b[39m\u001b[38;5;28;01mTrue\u001b[39;00m)  \u001b[38;5;66;03m# type: ignore\u001b[39;00m\n\u001b[0;32m--> 120\u001b[0m \u001b[43madata\u001b[49m\u001b[38;5;241;43m.\u001b[39;49m\u001b[43mvar\u001b[49m \u001b[38;5;241m=\u001b[39m features\n\u001b[1;32m    121\u001b[0m adata\u001b[38;5;241m.\u001b[39mvar_names \u001b[38;5;241m=\u001b[39m features[\u001b[38;5;241m0\u001b[39m]  \u001b[38;5;66;03m# type:ignore\u001b[39;00m\n\u001b[1;32m    122\u001b[0m adata\u001b[38;5;241m.\u001b[39mvar\u001b[38;5;241m.\u001b[39mdrop(adata\u001b[38;5;241m.\u001b[39mvar[[\u001b[38;5;241m0\u001b[39m]], axis\u001b[38;5;241m=\u001b[39m\u001b[38;5;241m1\u001b[39m, inplace\u001b[38;5;241m=\u001b[39m\u001b[38;5;28;01mTrue\u001b[39;00m)  \u001b[38;5;66;03m# type: ignore\u001b[39;00m\n",
      "File \u001b[0;32m~/anaconda3/envs/rdsad/lib/python3.11/site-packages/anndata/_core/anndata.py:943\u001b[0m, in \u001b[0;36mAnnData.var\u001b[0;34m(self, value)\u001b[0m\n\u001b[1;32m    941\u001b[0m \u001b[38;5;129m@var\u001b[39m\u001b[38;5;241m.\u001b[39msetter\n\u001b[1;32m    942\u001b[0m \u001b[38;5;28;01mdef\u001b[39;00m \u001b[38;5;21mvar\u001b[39m(\u001b[38;5;28mself\u001b[39m, value: pd\u001b[38;5;241m.\u001b[39mDataFrame):\n\u001b[0;32m--> 943\u001b[0m     \u001b[38;5;28;43mself\u001b[39;49m\u001b[38;5;241;43m.\u001b[39;49m\u001b[43m_set_dim_df\u001b[49m\u001b[43m(\u001b[49m\u001b[43mvalue\u001b[49m\u001b[43m,\u001b[49m\u001b[43m \u001b[49m\u001b[38;5;124;43m\"\u001b[39;49m\u001b[38;5;124;43mvar\u001b[39;49m\u001b[38;5;124;43m\"\u001b[39;49m\u001b[43m)\u001b[49m\n",
      "File \u001b[0;32m~/anaconda3/envs/rdsad/lib/python3.11/site-packages/anndata/_core/anndata.py:858\u001b[0m, in \u001b[0;36mAnnData._set_dim_df\u001b[0;34m(self, value, attr)\u001b[0m\n\u001b[1;32m    856\u001b[0m \u001b[38;5;28;01mdef\u001b[39;00m \u001b[38;5;21m_set_dim_df\u001b[39m(\u001b[38;5;28mself\u001b[39m, value: pd\u001b[38;5;241m.\u001b[39mDataFrame, attr: \u001b[38;5;28mstr\u001b[39m):\n\u001b[1;32m    857\u001b[0m     \u001b[38;5;28;01mif\u001b[39;00m \u001b[38;5;129;01mnot\u001b[39;00m \u001b[38;5;28misinstance\u001b[39m(value, pd\u001b[38;5;241m.\u001b[39mDataFrame):\n\u001b[0;32m--> 858\u001b[0m         \u001b[38;5;28;01mraise\u001b[39;00m \u001b[38;5;167;01mValueError\u001b[39;00m(\u001b[38;5;124mf\u001b[39m\u001b[38;5;124m\"\u001b[39m\u001b[38;5;124mCan only assign pd.DataFrame to \u001b[39m\u001b[38;5;132;01m{\u001b[39;00mattr\u001b[38;5;132;01m}\u001b[39;00m\u001b[38;5;124m.\u001b[39m\u001b[38;5;124m\"\u001b[39m)\n\u001b[1;32m    859\u001b[0m     value_idx \u001b[38;5;241m=\u001b[39m \u001b[38;5;28mself\u001b[39m\u001b[38;5;241m.\u001b[39m_prep_dim_index(value\u001b[38;5;241m.\u001b[39mindex, attr)\n\u001b[1;32m    860\u001b[0m     \u001b[38;5;28;01mif\u001b[39;00m \u001b[38;5;28mself\u001b[39m\u001b[38;5;241m.\u001b[39mis_view:\n",
      "\u001b[0;31mValueError\u001b[0m: Can only assign pd.DataFrame to var."
     ]
    }
   ],
   "source": [
    "from rdsad import seurat\n",
    "mtx, barcodes, features = seurat.read_10x_data(\"data\")\n",
    "adata = seurat.create_adata(mtx, barcodes, features)\n",
    "adata.write_h5ad(\"data/pbmc.h5ad\", compression='gzip')"
   ]
  },
  {
   "cell_type": "markdown",
   "metadata": {},
   "source": [
    "Now we need to produce files to work with during the tutorial.  We will do this with a series of Python commands."
   ]
  },
  {
   "cell_type": "code",
   "execution_count": 3,
   "metadata": {},
   "outputs": [],
   "source": [
    "import pandas as pd\n",
    "from pathlib import Path"
   ]
  },
  {
   "cell_type": "code",
   "execution_count": 4,
   "metadata": {},
   "outputs": [
    {
     "data": {
      "text/html": [
       "<div>\n",
       "<style scoped>\n",
       "    .dataframe tbody tr th:only-of-type {\n",
       "        vertical-align: middle;\n",
       "    }\n",
       "\n",
       "    .dataframe tbody tr th {\n",
       "        vertical-align: top;\n",
       "    }\n",
       "\n",
       "    .dataframe thead th {\n",
       "        text-align: right;\n",
       "    }\n",
       "</style>\n",
       "<table border=\"1\" class=\"dataframe\">\n",
       "  <thead>\n",
       "    <tr style=\"text-align: right;\">\n",
       "      <th></th>\n",
       "      <th>Name</th>\n",
       "      <th>Occupation</th>\n",
       "      <th>Sex</th>\n",
       "      <th>Age</th>\n",
       "      <th>Weight</th>\n",
       "      <th>Income</th>\n",
       "    </tr>\n",
       "  </thead>\n",
       "  <tbody>\n",
       "    <tr>\n",
       "      <th>0</th>\n",
       "      <td>Ted</td>\n",
       "      <td>Tinker</td>\n",
       "      <td>Male</td>\n",
       "      <td>33</td>\n",
       "      <td>70</td>\n",
       "      <td>50000</td>\n",
       "    </tr>\n",
       "    <tr>\n",
       "      <th>1</th>\n",
       "      <td>Carol</td>\n",
       "      <td>Tailor</td>\n",
       "      <td>Female</td>\n",
       "      <td>27</td>\n",
       "      <td>50</td>\n",
       "      <td>60000</td>\n",
       "    </tr>\n",
       "    <tr>\n",
       "      <th>2</th>\n",
       "      <td>Alice</td>\n",
       "      <td>Soldier</td>\n",
       "      <td>Female</td>\n",
       "      <td>48</td>\n",
       "      <td>60</td>\n",
       "      <td>70000</td>\n",
       "    </tr>\n",
       "    <tr>\n",
       "      <th>3</th>\n",
       "      <td>Bob</td>\n",
       "      <td>Spy</td>\n",
       "      <td>Male</td>\n",
       "      <td>61</td>\n",
       "      <td>80</td>\n",
       "      <td>55000</td>\n",
       "    </tr>\n",
       "  </tbody>\n",
       "</table>\n",
       "</div>"
      ],
      "text/plain": [
       "    Name Occupation     Sex  Age  Weight  Income\n",
       "0    Ted     Tinker    Male   33      70   50000\n",
       "1  Carol     Tailor  Female   27      50   60000\n",
       "2  Alice    Soldier  Female   48      60   70000\n",
       "3    Bob        Spy    Male   61      80   55000"
      ]
     },
     "execution_count": 4,
     "metadata": {},
     "output_type": "execute_result"
    }
   ],
   "source": [
    "# first read in the data in comma separated value format\n",
    "folks = pd.read_csv(\"data/folks.csv\")\n",
    "folks.head()"
   ]
  },
  {
   "cell_type": "code",
   "execution_count": 4,
   "metadata": {},
   "outputs": [],
   "source": [
    "# now save the data in tab separated value format\n",
    "folks_tsv_path = Path(\"data/folks.tsv\")\n",
    "if not folks_tsv_path.exists():\n",
    "    folks.to_csv(\"data/folks.tsv\", sep='\\t')"
   ]
  },
  {
   "cell_type": "code",
   "execution_count": 5,
   "metadata": {},
   "outputs": [
    {
     "data": {
      "text/html": [
       "<div>\n",
       "<style scoped>\n",
       "    .dataframe tbody tr th:only-of-type {\n",
       "        vertical-align: middle;\n",
       "    }\n",
       "\n",
       "    .dataframe tbody tr th {\n",
       "        vertical-align: top;\n",
       "    }\n",
       "\n",
       "    .dataframe thead th {\n",
       "        text-align: right;\n",
       "    }\n",
       "</style>\n",
       "<table border=\"1\" class=\"dataframe\">\n",
       "  <thead>\n",
       "    <tr style=\"text-align: right;\">\n",
       "      <th></th>\n",
       "      <th>Name</th>\n",
       "      <th>Occupation</th>\n",
       "      <th>Sex</th>\n",
       "      <th>Age</th>\n",
       "      <th>Weight</th>\n",
       "      <th>Income</th>\n",
       "    </tr>\n",
       "  </thead>\n",
       "  <tbody>\n",
       "    <tr>\n",
       "      <th>0</th>\n",
       "      <td>Ted</td>\n",
       "      <td>Tinker</td>\n",
       "      <td>Male</td>\n",
       "      <td>33</td>\n",
       "      <td>70</td>\n",
       "      <td>50000</td>\n",
       "    </tr>\n",
       "    <tr>\n",
       "      <th>1</th>\n",
       "      <td>Carol</td>\n",
       "      <td>Tailor</td>\n",
       "      <td>Female</td>\n",
       "      <td>27</td>\n",
       "      <td>50</td>\n",
       "      <td>60000</td>\n",
       "    </tr>\n",
       "    <tr>\n",
       "      <th>2</th>\n",
       "      <td>Alice</td>\n",
       "      <td>Soldier</td>\n",
       "      <td>Female</td>\n",
       "      <td>48</td>\n",
       "      <td>60</td>\n",
       "      <td>70000</td>\n",
       "    </tr>\n",
       "    <tr>\n",
       "      <th>3</th>\n",
       "      <td>Bob</td>\n",
       "      <td>Spy</td>\n",
       "      <td>Male</td>\n",
       "      <td>61</td>\n",
       "      <td>80</td>\n",
       "      <td>55000</td>\n",
       "    </tr>\n",
       "  </tbody>\n",
       "</table>\n",
       "</div>"
      ],
      "text/plain": [
       "    Name Occupation     Sex  Age  Weight  Income\n",
       "0    Ted     Tinker    Male   33      70   50000\n",
       "1  Carol     Tailor  Female   27      50   60000\n",
       "2  Alice    Soldier  Female   48      60   70000\n",
       "3    Bob        Spy    Male   61      80   55000"
      ]
     },
     "execution_count": 5,
     "metadata": {},
     "output_type": "execute_result"
    }
   ],
   "source": [
    "# read the data in Excel format\n",
    "# make sure to install openpyxl first using `conda install -c conda-forge openpyxl -y`\n",
    "# This may require you to restart the kernel.\n",
    "#\n",
    "folks_xl = pd.read_excel(\"data/folks.xlsx\")\n",
    "folks_xl.head()"
   ]
  },
  {
   "cell_type": "code",
   "execution_count": 6,
   "metadata": {},
   "outputs": [
    {
     "data": {
      "text/html": [
       "<div>\n",
       "<style scoped>\n",
       "    .dataframe tbody tr th:only-of-type {\n",
       "        vertical-align: middle;\n",
       "    }\n",
       "\n",
       "    .dataframe tbody tr th {\n",
       "        vertical-align: top;\n",
       "    }\n",
       "\n",
       "    .dataframe thead th {\n",
       "        text-align: right;\n",
       "    }\n",
       "</style>\n",
       "<table border=\"1\" class=\"dataframe\">\n",
       "  <thead>\n",
       "    <tr style=\"text-align: right;\">\n",
       "      <th></th>\n",
       "      <th>Unnamed: 0</th>\n",
       "      <th>Name</th>\n",
       "      <th>Occupation</th>\n",
       "      <th>Sex</th>\n",
       "      <th>Age</th>\n",
       "      <th>Weight</th>\n",
       "      <th>Income</th>\n",
       "    </tr>\n",
       "  </thead>\n",
       "  <tbody>\n",
       "    <tr>\n",
       "      <th>0</th>\n",
       "      <td>0</td>\n",
       "      <td>Ted</td>\n",
       "      <td>Tinker</td>\n",
       "      <td>Male</td>\n",
       "      <td>33</td>\n",
       "      <td>70</td>\n",
       "      <td>50000</td>\n",
       "    </tr>\n",
       "    <tr>\n",
       "      <th>1</th>\n",
       "      <td>1</td>\n",
       "      <td>Carol</td>\n",
       "      <td>Tailor</td>\n",
       "      <td>Female</td>\n",
       "      <td>27</td>\n",
       "      <td>50</td>\n",
       "      <td>60000</td>\n",
       "    </tr>\n",
       "    <tr>\n",
       "      <th>2</th>\n",
       "      <td>2</td>\n",
       "      <td>Alice</td>\n",
       "      <td>Soldier</td>\n",
       "      <td>Female</td>\n",
       "      <td>48</td>\n",
       "      <td>60</td>\n",
       "      <td>70000</td>\n",
       "    </tr>\n",
       "    <tr>\n",
       "      <th>3</th>\n",
       "      <td>3</td>\n",
       "      <td>Bob</td>\n",
       "      <td>Spy</td>\n",
       "      <td>Male</td>\n",
       "      <td>61</td>\n",
       "      <td>80</td>\n",
       "      <td>55000</td>\n",
       "    </tr>\n",
       "  </tbody>\n",
       "</table>\n",
       "</div>"
      ],
      "text/plain": [
       "   Unnamed: 0   Name Occupation     Sex  Age  Weight  Income\n",
       "0           0    Ted     Tinker    Male   33      70   50000\n",
       "1           1  Carol     Tailor  Female   27      50   60000\n",
       "2           2  Alice    Soldier  Female   48      60   70000\n",
       "3           3    Bob        Spy    Male   61      80   55000"
      ]
     },
     "execution_count": 6,
     "metadata": {},
     "output_type": "execute_result"
    }
   ],
   "source": [
    "folks_tsv = pd.read_csv(\"data/folks.tsv\", sep='\\t')\n",
    "folks_tsv.head()"
   ]
  },
  {
   "cell_type": "code",
   "execution_count": 5,
   "metadata": {},
   "outputs": [
    {
     "data": {
      "text/plain": [
       "Index(['Name', 'Occupation', 'Sex', 'Age', 'Weight', 'Income'], dtype='object')"
      ]
     },
     "execution_count": 5,
     "metadata": {},
     "output_type": "execute_result"
    }
   ],
   "source": [
    "folks.columns"
   ]
  },
  {
   "cell_type": "code",
   "execution_count": 6,
   "metadata": {},
   "outputs": [
    {
     "data": {
      "text/plain": [
       "6"
      ]
     },
     "execution_count": 6,
     "metadata": {},
     "output_type": "execute_result"
    }
   ],
   "source": [
    "len(folks.columns)"
   ]
  },
  {
   "cell_type": "code",
   "execution_count": 8,
   "metadata": {},
   "outputs": [
    {
     "data": {
      "text/html": [
       "<div>\n",
       "<style scoped>\n",
       "    .dataframe tbody tr th:only-of-type {\n",
       "        vertical-align: middle;\n",
       "    }\n",
       "\n",
       "    .dataframe tbody tr th {\n",
       "        vertical-align: top;\n",
       "    }\n",
       "\n",
       "    .dataframe thead th {\n",
       "        text-align: right;\n",
       "    }\n",
       "</style>\n",
       "<table border=\"1\" class=\"dataframe\">\n",
       "  <thead>\n",
       "    <tr style=\"text-align: right;\">\n",
       "      <th></th>\n",
       "      <th>Occupation</th>\n",
       "    </tr>\n",
       "  </thead>\n",
       "  <tbody>\n",
       "    <tr>\n",
       "      <th>0</th>\n",
       "      <td>Tinker</td>\n",
       "    </tr>\n",
       "    <tr>\n",
       "      <th>1</th>\n",
       "      <td>Tailor</td>\n",
       "    </tr>\n",
       "    <tr>\n",
       "      <th>2</th>\n",
       "      <td>Soldier</td>\n",
       "    </tr>\n",
       "    <tr>\n",
       "      <th>3</th>\n",
       "      <td>Spy</td>\n",
       "    </tr>\n",
       "  </tbody>\n",
       "</table>\n",
       "</div>"
      ],
      "text/plain": [
       "  Occupation\n",
       "0     Tinker\n",
       "1     Tailor\n",
       "2    Soldier\n",
       "3        Spy"
      ]
     },
     "execution_count": 8,
     "metadata": {},
     "output_type": "execute_result"
    }
   ],
   "source": [
    "df = pd.DataFrame(folks.iloc[:,1])\n",
    "df"
   ]
  },
  {
   "cell_type": "code",
   "execution_count": null,
   "metadata": {},
   "outputs": [],
   "source": []
  }
 ],
 "metadata": {
  "kernelspec": {
   "display_name": "Python 3 (ipykernel)",
   "language": "python",
   "name": "python3"
  },
  "language_info": {
   "codemirror_mode": {
    "name": "ipython",
    "version": 3
   },
   "file_extension": ".py",
   "mimetype": "text/x-python",
   "name": "python",
   "nbconvert_exporter": "python",
   "pygments_lexer": "ipython3",
   "version": "3.11.8"
  }
 },
 "nbformat": 4,
 "nbformat_minor": 4
}
