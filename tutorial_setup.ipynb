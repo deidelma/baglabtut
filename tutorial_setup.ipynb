{
 "cells": [
  {
   "cell_type": "markdown",
   "metadata": {},
   "source": [
    "# Baglole Lab Tutorial Setup\n",
    "\n",
    "This file contains the instructions to set up our tutorial."
   ]
  },
  {
   "cell_type": "markdown",
   "metadata": {},
   "source": [
    "## Scanpy\n",
    "\n",
    "To get ready for the [scanpy tutorial](https://scanpy-tutorials.readthedocs.io/en/latest/pbmc3k.html), we need to import\n",
    "some packages and download some data."
   ]
  },
  {
   "cell_type": "code",
   "execution_count": 1,
   "metadata": {},
   "outputs": [],
   "source": [
    "#\n",
    "# first import the packages we need to use\n",
    "#\n",
    "import scanpy as sc\n",
    "import pandas as pd\n",
    "from pathlib import Path\n",
    "import utils"
   ]
  },
  {
   "cell_type": "code",
   "execution_count": 2,
   "metadata": {},
   "outputs": [
    {
     "name": "stdout",
     "output_type": "stream",
     "text": [
      "scanpy==1.10.0rc2 anndata==0.10.6 umap==0.5.5 numpy==1.26.4 scipy==1.12.0 pandas==2.2.1 scikit-learn==1.4.1.post1 statsmodels==0.14.1 igraph==0.11.4 pynndescent==0.5.11\n"
     ]
    }
   ],
   "source": [
    "#\n",
    "# now set the parameters for the scanpy tutorial\n",
    "#\n",
    "sc.settings.verbosity = 3  # verbosity: errors (0), warnings (1), info (2), hints (3)\n",
    "sc.logging.print_header()\n",
    "sc.settings.set_figure_params(dpi=80, facecolor=\"white\")"
   ]
  },
  {
   "cell_type": "code",
   "execution_count": 9,
   "metadata": {},
   "outputs": [],
   "source": [
    "# set a results file as recommended in the scanpy tutorial\n",
    "results_file = \"write/pbmc3k.h5ad\""
   ]
  },
  {
   "cell_type": "markdown",
   "metadata": {},
   "source": [
    "### The download problem\n",
    "\n",
    "Although the tutorial asks us to use the wget program to download the data, this is not available on all computers.\n",
    "Also, the current version of scanpy requires the datafiles to compressed with gzip after they are downloaded and unpacked.  \n",
    "\n",
    "To ensure that everyone can do the tutorial regardless of which computer system they're using, we will use the utils.py module\n",
    "located in the root directory of this project.  It exports some convenience routines that emulate programs \n",
    "that are available on Linux machines but would need special installation procedures on Windows."
   ]
  },
  {
   "cell_type": "code",
   "execution_count": 6,
   "metadata": {},
   "outputs": [],
   "source": [
    "#\n",
    "# download and unpack the data\n",
    "#\n",
    "utils.bag_wget(\n",
    "    \"http://cf.10xgenomics.com/samples/cell-exp/1.1.0/pbmc3k/pbmc3k_filtered_gene_bc_matrices.tar.gz\",\n",
    "    \"data/pbmc.tar.gz\",\n",
    ")\n",
    "utils.bag_extract(\"data/pbmc.tar.gz\", \"data\")\n",
    "utils.bag_gzip(\"data/filtered_gene_bc_matrices/hg19/barcodes.tsv\")\n",
    "utils.bag_gzip(\"data/filtered_gene_bc_matrices/hg19/genes.tsv\")\n",
    "utils.bag_gzip(\"data/filtered_gene_bc_matrices/hg19/matrix.mtx\")"
   ]
  },
  {
   "cell_type": "markdown",
   "metadata": {},
   "source": [
    "Now that the files have been downloaded into the appropriate directory and in the right format, you should be able to follow\n",
    "the [tutorial](https://scanpy-tutorials.readthedocs.io/en/latest/pbmc3k.html)"
   ]
  },
  {
   "cell_type": "code",
   "execution_count": 8,
   "metadata": {},
   "outputs": [
    {
     "name": "stdout",
     "output_type": "stream",
     "text": [
      "... writing an h5ad cache file to speedup reading next time\n"
     ]
    },
    {
     "data": {
      "text/plain": [
       "AnnData object with n_obs × n_vars = 2700 × 32738\n",
       "    var: 'gene_ids'"
      ]
     },
     "execution_count": 8,
     "metadata": {},
     "output_type": "execute_result"
    }
   ],
   "source": [
    "adata = sc.read_10x_mtx(\"data/filtered_gene_bc_matrices/hg19\",\n",
    "                        var_names='gene_symbols',\n",
    "                        cache=True)\n",
    "# adata = sc.read_10x_mtx('data')\n",
    "adata"
   ]
  },
  {
   "cell_type": "markdown",
   "metadata": {},
   "source": [
    "## What about Pandas?\n",
    "\n",
    "First we need to produce files to work with during the tutorial.  We will do this with a series of Python commands."
   ]
  },
  {
   "cell_type": "code",
   "execution_count": 5,
   "metadata": {},
   "outputs": [
    {
     "data": {
      "text/html": [
       "<div>\n",
       "<style scoped>\n",
       "    .dataframe tbody tr th:only-of-type {\n",
       "        vertical-align: middle;\n",
       "    }\n",
       "\n",
       "    .dataframe tbody tr th {\n",
       "        vertical-align: top;\n",
       "    }\n",
       "\n",
       "    .dataframe thead th {\n",
       "        text-align: right;\n",
       "    }\n",
       "</style>\n",
       "<table border=\"1\" class=\"dataframe\">\n",
       "  <thead>\n",
       "    <tr style=\"text-align: right;\">\n",
       "      <th></th>\n",
       "      <th>Name</th>\n",
       "      <th>Occupation</th>\n",
       "      <th>Sex</th>\n",
       "      <th>Age</th>\n",
       "      <th>Weight</th>\n",
       "      <th>Income</th>\n",
       "    </tr>\n",
       "  </thead>\n",
       "  <tbody>\n",
       "    <tr>\n",
       "      <th>0</th>\n",
       "      <td>Ted</td>\n",
       "      <td>Tinker</td>\n",
       "      <td>Male</td>\n",
       "      <td>33</td>\n",
       "      <td>70</td>\n",
       "      <td>50000</td>\n",
       "    </tr>\n",
       "    <tr>\n",
       "      <th>1</th>\n",
       "      <td>Carol</td>\n",
       "      <td>Tailor</td>\n",
       "      <td>Female</td>\n",
       "      <td>27</td>\n",
       "      <td>50</td>\n",
       "      <td>60000</td>\n",
       "    </tr>\n",
       "    <tr>\n",
       "      <th>2</th>\n",
       "      <td>Alice</td>\n",
       "      <td>Soldier</td>\n",
       "      <td>Female</td>\n",
       "      <td>48</td>\n",
       "      <td>60</td>\n",
       "      <td>70000</td>\n",
       "    </tr>\n",
       "    <tr>\n",
       "      <th>3</th>\n",
       "      <td>Bob</td>\n",
       "      <td>Spy</td>\n",
       "      <td>Male</td>\n",
       "      <td>61</td>\n",
       "      <td>80</td>\n",
       "      <td>55000</td>\n",
       "    </tr>\n",
       "  </tbody>\n",
       "</table>\n",
       "</div>"
      ],
      "text/plain": [
       "    Name Occupation     Sex  Age  Weight  Income\n",
       "0    Ted     Tinker    Male   33      70   50000\n",
       "1  Carol     Tailor  Female   27      50   60000\n",
       "2  Alice    Soldier  Female   48      60   70000\n",
       "3    Bob        Spy    Male   61      80   55000"
      ]
     },
     "execution_count": 5,
     "metadata": {},
     "output_type": "execute_result"
    }
   ],
   "source": [
    "# first read in the data in comma separated value format\n",
    "folks = pd.read_csv(\"data/folks.csv\")\n",
    "folks.head()"
   ]
  },
  {
   "cell_type": "code",
   "execution_count": 6,
   "metadata": {},
   "outputs": [],
   "source": [
    "# now save the data in tab-separated value format\n",
    "folks_tsv_path = Path(\"data/folks.tsv\")\n",
    "if not folks_tsv_path.exists():\n",
    "    folks.to_csv(\"data/folks.tsv\", sep='\\t')"
   ]
  },
  {
   "cell_type": "code",
   "execution_count": 2,
   "metadata": {},
   "outputs": [
    {
     "data": {
      "text/html": [
       "<div>\n",
       "<style scoped>\n",
       "    .dataframe tbody tr th:only-of-type {\n",
       "        vertical-align: middle;\n",
       "    }\n",
       "\n",
       "    .dataframe tbody tr th {\n",
       "        vertical-align: top;\n",
       "    }\n",
       "\n",
       "    .dataframe thead th {\n",
       "        text-align: right;\n",
       "    }\n",
       "</style>\n",
       "<table border=\"1\" class=\"dataframe\">\n",
       "  <thead>\n",
       "    <tr style=\"text-align: right;\">\n",
       "      <th></th>\n",
       "      <th>Name</th>\n",
       "      <th>Occupation</th>\n",
       "      <th>Sex</th>\n",
       "      <th>Age</th>\n",
       "      <th>Weight</th>\n",
       "      <th>Income</th>\n",
       "    </tr>\n",
       "  </thead>\n",
       "  <tbody>\n",
       "    <tr>\n",
       "      <th>0</th>\n",
       "      <td>Ted</td>\n",
       "      <td>Tinker</td>\n",
       "      <td>Male</td>\n",
       "      <td>33</td>\n",
       "      <td>70</td>\n",
       "      <td>50000</td>\n",
       "    </tr>\n",
       "    <tr>\n",
       "      <th>1</th>\n",
       "      <td>Carol</td>\n",
       "      <td>Tailor</td>\n",
       "      <td>Female</td>\n",
       "      <td>27</td>\n",
       "      <td>50</td>\n",
       "      <td>60000</td>\n",
       "    </tr>\n",
       "    <tr>\n",
       "      <th>2</th>\n",
       "      <td>Alice</td>\n",
       "      <td>Soldier</td>\n",
       "      <td>Female</td>\n",
       "      <td>48</td>\n",
       "      <td>60</td>\n",
       "      <td>70000</td>\n",
       "    </tr>\n",
       "    <tr>\n",
       "      <th>3</th>\n",
       "      <td>Bob</td>\n",
       "      <td>Spy</td>\n",
       "      <td>Male</td>\n",
       "      <td>61</td>\n",
       "      <td>80</td>\n",
       "      <td>55000</td>\n",
       "    </tr>\n",
       "  </tbody>\n",
       "</table>\n",
       "</div>"
      ],
      "text/plain": [
       "    Name Occupation     Sex  Age  Weight  Income\n",
       "0    Ted     Tinker    Male   33      70   50000\n",
       "1  Carol     Tailor  Female   27      50   60000\n",
       "2  Alice    Soldier  Female   48      60   70000\n",
       "3    Bob        Spy    Male   61      80   55000"
      ]
     },
     "execution_count": 2,
     "metadata": {},
     "output_type": "execute_result"
    }
   ],
   "source": [
    "# read the data in Excel format\n",
    "# make sure to install openpyxl first using `conda install -c conda-forge openpyxl -y`\n",
    "# This may require you to restart the kernel.\n",
    "#\n",
    "folks_xl = pd.read_excel(\"data/folks.xlsx\")\n",
    "folks_xl.head()"
   ]
  },
  {
   "cell_type": "code",
   "execution_count": 8,
   "metadata": {},
   "outputs": [
    {
     "data": {
      "text/html": [
       "<div>\n",
       "<style scoped>\n",
       "    .dataframe tbody tr th:only-of-type {\n",
       "        vertical-align: middle;\n",
       "    }\n",
       "\n",
       "    .dataframe tbody tr th {\n",
       "        vertical-align: top;\n",
       "    }\n",
       "\n",
       "    .dataframe thead th {\n",
       "        text-align: right;\n",
       "    }\n",
       "</style>\n",
       "<table border=\"1\" class=\"dataframe\">\n",
       "  <thead>\n",
       "    <tr style=\"text-align: right;\">\n",
       "      <th></th>\n",
       "      <th>Unnamed: 0</th>\n",
       "      <th>Name</th>\n",
       "      <th>Occupation</th>\n",
       "      <th>Sex</th>\n",
       "      <th>Age</th>\n",
       "      <th>Weight</th>\n",
       "      <th>Income</th>\n",
       "    </tr>\n",
       "  </thead>\n",
       "  <tbody>\n",
       "    <tr>\n",
       "      <th>0</th>\n",
       "      <td>0</td>\n",
       "      <td>Ted</td>\n",
       "      <td>Tinker</td>\n",
       "      <td>Male</td>\n",
       "      <td>33</td>\n",
       "      <td>70</td>\n",
       "      <td>50000</td>\n",
       "    </tr>\n",
       "    <tr>\n",
       "      <th>1</th>\n",
       "      <td>1</td>\n",
       "      <td>Carol</td>\n",
       "      <td>Tailor</td>\n",
       "      <td>Female</td>\n",
       "      <td>27</td>\n",
       "      <td>50</td>\n",
       "      <td>60000</td>\n",
       "    </tr>\n",
       "    <tr>\n",
       "      <th>2</th>\n",
       "      <td>2</td>\n",
       "      <td>Alice</td>\n",
       "      <td>Soldier</td>\n",
       "      <td>Female</td>\n",
       "      <td>48</td>\n",
       "      <td>60</td>\n",
       "      <td>70000</td>\n",
       "    </tr>\n",
       "    <tr>\n",
       "      <th>3</th>\n",
       "      <td>3</td>\n",
       "      <td>Bob</td>\n",
       "      <td>Spy</td>\n",
       "      <td>Male</td>\n",
       "      <td>61</td>\n",
       "      <td>80</td>\n",
       "      <td>55000</td>\n",
       "    </tr>\n",
       "  </tbody>\n",
       "</table>\n",
       "</div>"
      ],
      "text/plain": [
       "   Unnamed: 0   Name Occupation     Sex  Age  Weight  Income\n",
       "0           0    Ted     Tinker    Male   33      70   50000\n",
       "1           1  Carol     Tailor  Female   27      50   60000\n",
       "2           2  Alice    Soldier  Female   48      60   70000\n",
       "3           3    Bob        Spy    Male   61      80   55000"
      ]
     },
     "execution_count": 8,
     "metadata": {},
     "output_type": "execute_result"
    }
   ],
   "source": [
    "#\n",
    "# read in the tab-separated value file we created above.\n",
    "#\n",
    "folks_tsv = pd.read_csv(\"data/folks.tsv\", sep='\\t')\n",
    "folks_tsv.head()"
   ]
  },
  {
   "cell_type": "code",
   "execution_count": 9,
   "metadata": {},
   "outputs": [
    {
     "data": {
      "text/plain": [
       "Index(['Name', 'Occupation', 'Sex', 'Age', 'Weight', 'Income'], dtype='object')"
      ]
     },
     "execution_count": 9,
     "metadata": {},
     "output_type": "execute_result"
    }
   ],
   "source": [
    "#\n",
    "# get the number of columns\n",
    "#\n",
    "folks.columns"
   ]
  },
  {
   "cell_type": "code",
   "execution_count": 11,
   "metadata": {},
   "outputs": [
    {
     "data": {
      "text/html": [
       "<div>\n",
       "<style scoped>\n",
       "    .dataframe tbody tr th:only-of-type {\n",
       "        vertical-align: middle;\n",
       "    }\n",
       "\n",
       "    .dataframe tbody tr th {\n",
       "        vertical-align: top;\n",
       "    }\n",
       "\n",
       "    .dataframe thead th {\n",
       "        text-align: right;\n",
       "    }\n",
       "</style>\n",
       "<table border=\"1\" class=\"dataframe\">\n",
       "  <thead>\n",
       "    <tr style=\"text-align: right;\">\n",
       "      <th></th>\n",
       "      <th>Occupation</th>\n",
       "    </tr>\n",
       "  </thead>\n",
       "  <tbody>\n",
       "    <tr>\n",
       "      <th>0</th>\n",
       "      <td>Tinker</td>\n",
       "    </tr>\n",
       "    <tr>\n",
       "      <th>1</th>\n",
       "      <td>Tailor</td>\n",
       "    </tr>\n",
       "    <tr>\n",
       "      <th>2</th>\n",
       "      <td>Soldier</td>\n",
       "    </tr>\n",
       "    <tr>\n",
       "      <th>3</th>\n",
       "      <td>Spy</td>\n",
       "    </tr>\n",
       "  </tbody>\n",
       "</table>\n",
       "</div>"
      ],
      "text/plain": [
       "  Occupation\n",
       "0     Tinker\n",
       "1     Tailor\n",
       "2    Soldier\n",
       "3        Spy"
      ]
     },
     "execution_count": 11,
     "metadata": {},
     "output_type": "execute_result"
    }
   ],
   "source": [
    "#\n",
    "# create a dataframe of occupations\n",
    "#\n",
    "df = pd.DataFrame(folks.iloc[:, 1])\n",
    "df"
   ]
  }
 ],
 "metadata": {
  "kernelspec": {
   "display_name": "Python 3 (ipykernel)",
   "language": "python",
   "name": "python3"
  },
  "language_info": {
   "codemirror_mode": {
    "name": "ipython",
    "version": 3
   },
   "file_extension": ".py",
   "mimetype": "text/x-python",
   "name": "python",
   "nbconvert_exporter": "python",
   "pygments_lexer": "ipython3",
   "version": "3.10.14"
  },
  "widgets": {
   "application/vnd.jupyter.widget-state+json": {
    "state": {},
    "version_major": 2,
    "version_minor": 0
   }
  }
 },
 "nbformat": 4,
 "nbformat_minor": 4
}
