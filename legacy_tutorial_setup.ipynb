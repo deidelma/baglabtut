{
 "cells": [
  {
   "cell_type": "markdown",
   "metadata": {},
   "source": [
    "# Legacy Scanpy Tutorial Setup\n",
    "\n",
    "This file contains the instructions to set up for the [2017 scanpy tutorial](https://scanpy.readthedocs.io/en/stable/tutorials/basics/clustering-2017.html).  This uses the \"legacy workflow\" and is no longer recommended.\n",
    "\n",
    "In order to ensure that all packages are compatibel with the legacy tutorial, it is necessary to create\n",
    "an conda environment with specific versions of some packages.  This requires using both cond and pip.\n",
    "\n",
    "You can create a suitable environment using the baglab.yml file in the baglabtut directory:\n",
    "\n",
    "```bash\n",
    "conda env create -n somename -f baglab.yml\n",
    "```"
   ]
  },
  {
   "cell_type": "markdown",
   "metadata": {},
   "source": [
    "## Getting ready to scanpy\n",
    "\n",
    "Fist, we need to import\n",
    "some packages and download some data."
   ]
  },
  {
   "cell_type": "code",
   "execution_count": 1,
   "metadata": {},
   "outputs": [],
   "source": [
    "#\n",
    "# first import the packages we need to use\n",
    "#\n",
    "import scanpy as sc\n",
    "import pandas as pd\n",
    "\n",
    "from pathlib import Path # pathlib is a builtin package\n",
    "\n",
    "import utils # this is a custom package that enables downloads "
   ]
  },
  {
   "cell_type": "code",
   "execution_count": 2,
   "metadata": {},
   "outputs": [
    {
     "name": "stdout",
     "output_type": "stream",
     "text": [
      "scanpy==1.10.0rc2 anndata==0.10.6 umap==0.5.5 numpy==1.26.4 scipy==1.12.0 pandas==2.2.1 scikit-learn==1.4.1.post1 statsmodels==0.14.1 igraph==0.11.4 pynndescent==0.5.11\n"
     ]
    }
   ],
   "source": [
    "#\n",
    "# now set the parameters for the scanpy tutorial\n",
    "#\n",
    "sc.settings.verbosity = 3  # verbosity: errors (0), warnings (1), info (2), hints (3)\n",
    "sc.logging.print_header()\n",
    "sc.settings.set_figure_params(dpi=80, facecolor=\"white\")"
   ]
  },
  {
   "cell_type": "code",
   "execution_count": 9,
   "metadata": {},
   "outputs": [],
   "source": [
    "# set a results file as recommended in the scanpy tutorial\n",
    "results_file = \"write/pbmc3k.h5ad\""
   ]
  },
  {
   "cell_type": "markdown",
   "metadata": {},
   "source": [
    "### The download problem\n",
    "\n",
    "Although the tutorial asks us to use the wget program to download the data, this is not available on all computers.\n",
    "Also, the current version of scanpy requires the datafiles to compressed with gzip after they are downloaded and unpacked.  \n",
    "\n",
    "To ensure that everyone can do the tutorial regardless of which computer system they're using, we will use the utils.py module\n",
    "located in the root directory of this project.  It exports some convenience routines that emulate programs \n",
    "that are available on Linux machines but would need special installation procedures on Windows."
   ]
  },
  {
   "cell_type": "code",
   "execution_count": 6,
   "metadata": {},
   "outputs": [],
   "source": [
    "#\n",
    "# download and unpack the data\n",
    "#\n",
    "utils.bag_wget(\n",
    "    \"http://cf.10xgenomics.com/samples/cell-exp/1.1.0/pbmc3k/pbmc3k_filtered_gene_bc_matrices.tar.gz\",\n",
    "    \"data/pbmc.tar.gz\",\n",
    ")\n",
    "utils.bag_extract(\"data/pbmc.tar.gz\", \"data\")\n",
    "utils.bag_gzip(\"data/filtered_gene_bc_matrices/hg19/barcodes.tsv\")\n",
    "utils.bag_gzip(\"data/filtered_gene_bc_matrices/hg19/genes.tsv\")\n",
    "utils.bag_gzip(\"data/filtered_gene_bc_matrices/hg19/matrix.mtx\")"
   ]
  },
  {
   "cell_type": "markdown",
   "metadata": {},
   "source": [
    "Now that the files have been downloaded into the appropriate directory and in the right format, you should be able to follow\n",
    "the [tutorial](https://scanpy-tutorials.readthedocs.io/en/latest/pbmc3k.html)"
   ]
  },
  {
   "cell_type": "markdown",
   "metadata": {},
   "source": [
    "adata = sc.read_10x_mtx(\"data/filtered_gene_bc_matrices/hg19\",\n",
    "                        var_names='gene_symbols',\n",
    "                        cache=True)\n",
    "# adata = sc.read_10x_mtx('data')\n",
    "adata"
   ]
  },
  {
   "cell_type": "markdown",
   "metadata": {},
   "source": [
    "You should be able to follow the legacy workflow tutorial from this point."
   ]
  }
 ],
 "metadata": {
  "kernelspec": {
   "display_name": "Python 3 (ipykernel)",
   "language": "python",
   "name": "python3"
  },
  "language_info": {
   "codemirror_mode": {
    "name": "ipython",
    "version": 3
   },
   "file_extension": ".py",
   "mimetype": "text/x-python",
   "name": "python",
   "nbconvert_exporter": "python",
   "pygments_lexer": "ipython3",
   "version": "3.12.2"
  },
  "widgets": {
   "application/vnd.jupyter.widget-state+json": {
    "state": {},
    "version_major": 2,
    "version_minor": 0
   }
  }
 },
 "nbformat": 4,
 "nbformat_minor": 4
}
