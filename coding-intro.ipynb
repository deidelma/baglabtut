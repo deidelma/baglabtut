{
 "cells": [
  {
   "cell_type": "markdown",
   "id": "37eda41a-192f-4bfe-bcd3-0efb74d2ba9a",
   "metadata": {},
   "source": [
    "# Coding intro\n",
    "\n",
    "This notebook is intended to introduce you to the rudiments of coding in Python\n",
    "\n",
    "If you are interested in learning more about coding in Python, one place to get started is this website: [Python for Beginners](https://www.python.org/about/gettingstarted/).\n",
    "\n",
    "There are also many resources to learn coding on YouTube.  The Microsoft series [Python for Beginners](https://www.youtube.com/playlist?list=PLlrxD0HtieHhS8VzuMCfQD4uJ9yne1mE6) is very good.  \n",
    "It consists of 44 short videos that gradually introduce you to the basic concepts you will need to program in Python.  Microsoft has a great many other introductory YouTube videos\n",
    "of high quality that you may wish to consult for other topics.\n",
    "\n",
    "Although our focus in Python, you may wish to also learn about R. You may wish to check out [R Programming for Beginners | Complete Tutorial | R & RStudio](https://www.youtube.com/watch?v=BvKETZ6kr9Q), \n",
    "a popular video that covers the basics very well.\n",
    "\n"
   ]
  },
  {
   "cell_type": "markdown",
   "id": "fd6fa8b8-b101-4f49-8eb0-6b5bf4245d80",
   "metadata": {},
   "source": [
    "## Variables\n",
    "\n",
    "```python\n",
    "name = \"Bob\"\n",
    "a= 1\n",
    "b= 2\n",
    "```\n",
    "What will the result be of:\n",
    "\n",
    "```Python\n",
    "a + b\n",
    "```\n",
    "\n",
    "```\n",
    "name + a\n",
    "```\n",
    "\n"
   ]
  },
  {
   "cell_type": "code",
   "execution_count": null,
   "id": "f022e920-28d4-40e9-8ea8-eb3799ede2a0",
   "metadata": {},
   "outputs": [],
   "source": [
    "#\n",
    "# try it\n",
    "#\n",
    "name = \"Bob\"\n",
    "a = 1\n",
    "b = 2\n",
    "\n",
    "print(a+b)\n",
    "print(name + a)"
   ]
  },
  {
   "cell_type": "markdown",
   "id": "db6efc10-d70e-4e31-9124-4535bb435aa7",
   "metadata": {},
   "source": [
    "## Lists\n",
    "\n",
    "Lists are collections of Python objects arranged in order.  They can contain objects of any type.\n",
    "\n",
    "```python\n",
    "a_list = [1, \"Bob\", 3.4]\n",
    "\n",
    "print(a_list[0]) # this prints \"1\"\n",
    "print(a_list[1]) # this prints \"Bob\"\n",
    "print(a_list[2]) # this prints \"3.4\"\n",
    "```"
   ]
  },
  {
   "cell_type": "code",
   "execution_count": 1,
   "id": "ff87e7ee-db7f-4310-86ab-b4f18ddd8a39",
   "metadata": {},
   "outputs": [
    {
     "name": "stdout",
     "output_type": "stream",
     "text": [
      "1\n",
      "Bob\n",
      "3.4\n"
     ]
    }
   ],
   "source": [
    "a_list = [1, \"Bob\", 3.4]\n",
    "\n",
    "print(a_list[0]) \n",
    "print(a_list[1]) \n",
    "print(a_list[2]) "
   ]
  },
  {
   "cell_type": "markdown",
   "id": "c82080ec-5b4b-4a38-b7d7-850ecd2cb800",
   "metadata": {},
   "source": [
    "Lists have some convenient syntax features:\n",
    "\n",
    "### Slices\n",
    "\n",
    "```python\n",
    "a_list = [1, \"Bob\", 3.4]\n",
    "print(a_list[0:1])  # this prints '1 \"Bob\"'\n",
    "print(a_list[-1])   # this prints \"3.4\"\n",
    "```\n",
    "\n",
    "### Lists are mutable\n",
    "\n",
    "Lists are mutable.  They can grow and shrink as needed:\n",
    "\n",
    "```python\n",
    "a_list = [] # empty list\n",
    "a_list.append(\"Bob\")\n",
    "a_list.append(\"Sally\")\n",
    "print(a_list)  # prints '\"Bob\" \"Sally\"'\n",
    "```\n",
    "\n",
    "You can read more about lists and other data structures in the [Python documentation](https://docs.python.org/3/tutorial/datastructures.html)"
   ]
  },
  {
   "cell_type": "code",
   "execution_count": 4,
   "id": "6b3e1cae-0eb8-48f8-b03f-1f7994dde33f",
   "metadata": {},
   "outputs": [
    {
     "name": "stdout",
     "output_type": "stream",
     "text": [
      "[1]\n",
      "3.4\n",
      "['Bob', 'Sally']\n"
     ]
    }
   ],
   "source": [
    "a_list = [1, \"Bob\", 3.4]\n",
    "print(a_list[0:1])  # this prints '[1]'\n",
    "print(a_list[-1])   # this prints \"3.4\"\n",
    "\n",
    "a_list = [] # empty list\n",
    "a_list.append(\"Bob\")\n",
    "a_list.append(\"Sally\")\n",
    "print(a_list)  # prints '[\"Bob\" \"Sally\"]'"
   ]
  },
  {
   "cell_type": "markdown",
   "id": "389232bd-d1d2-4c47-8e93-34ed9d38ddab",
   "metadata": {},
   "source": [
    "## Dictionaries\n",
    "\n",
    "Python uses the term `dictionary` to refer to a mapping from keys to values.\n",
    "\n",
    "For example:\n",
    "\n",
    "```python\n",
    "emails = {\n",
    "    \"David Eidelman\": \"david.eidelman@email.com\",\n",
    "    \"Carolyn Baglole\": \"carolyn.baglole@email.com\",\n",
    "}\n",
    "```\n",
    "Given that dictionary, what is the result of:\n",
    "```python\n",
    "print(emails[\"David Eidelman\"])\n",
    "\n",
    "emails[\"Nicole Heimabach\": \"nicole.heimbach@email.com\"]\n",
    "print(emails)\n",
    "```"
   ]
  },
  {
   "cell_type": "code",
   "execution_count": 12,
   "id": "e34b6f9b-15c7-4dc6-9d36-453e4c9b0d3a",
   "metadata": {},
   "outputs": [],
   "source": [
    "#\n",
    "# try it\n",
    "#\n",
    "emails = {\n",
    "    \"David Eidelman\": \"david.eidelman@email.com\",\n",
    "    \"Carolyn Baglole\": \"carolyn.baglole@email.com\",\n",
    "}\n"
   ]
  },
  {
   "cell_type": "markdown",
   "id": "73387245-60ab-4f7f-a550-bf9713c98c79",
   "metadata": {},
   "source": [
    "## Custom types\n",
    "\n",
    "The principal mechanism for creating user defined types in Python is to declare a `class`.\n",
    "A `class` is a compound data type that is associated with `methods` which define its behaviour.  For this tutorial, we will not be \n",
    "creating new classes but will review how to use ones that exist in the standard library.\n",
    "\n",
    "One of the most useful classes is `Path`.   This is exported by the `pathlib` package.  It provides a wide variety of tools for the handling of files\n",
    "and directories."
   ]
  },
  {
   "cell_type": "code",
   "execution_count": 29,
   "id": "e58a1e2f-972a-41d7-af04-eb0954591e00",
   "metadata": {},
   "outputs": [
    {
     "name": "stdout",
     "output_type": "stream",
     "text": [
      "C:\\Users\\David\\Projects\\baglabtut\n"
     ]
    }
   ],
   "source": [
    "# \n",
    "# example use of the Path class\n",
    "#\n",
    "from pathlib import Path   # you need to tell Python to bring the class into the current context, referred to as `scope`.\n",
    "\n",
    "# you can ask Path, what the current working directory is\n",
    "print(Path.cwd())"
   ]
  },
  {
   "cell_type": "markdown",
   "id": "ebcefdb6-53ff-41bd-b779-12a1d5221038",
   "metadata": {},
   "source": [
    "`cwd` is a method of the class `Path`"
   ]
  },
  {
   "cell_type": "code",
   "execution_count": 40,
   "id": "17a5b7ca-792f-4215-a17b-2115393ca684",
   "metadata": {},
   "outputs": [
    {
     "name": "stdout",
     "output_type": "stream",
     "text": [
      "The data_path variable refers to the following path: data\n",
      "Does the data_path variable refer to a dictionary?  True\n",
      "The fully qualified path to data_path is: C:\\Users\\David\\Projects\\baglabtut\\data\n"
     ]
    }
   ],
   "source": [
    "# you can create a specific `Path` for a specific path in the operating system and then use it to find out information about that path\n",
    "data_path = Path('data')\n",
    "print(f\"The data_path variable refers to the following path: {data_path}\")\n",
    "print(f\"Does the data_path variable refer to a dictionary?  {data_path.is_dir()}\")\n",
    "print(f\"The fully qualified path to data_path is: {data_path.absolute()}\")"
   ]
  },
  {
   "cell_type": "markdown",
   "id": "d19a9ea9-83bf-40a6-a2ce-348eab588db8",
   "metadata": {},
   "source": [
    "`is_dir` and `absolute` are said to be `methods` of the object `data_path`"
   ]
  },
  {
   "cell_type": "markdown",
   "id": "2b1f8212-a46c-4758-b64a-3ae8d6edbe56",
   "metadata": {},
   "source": [
    "## Loops and variables\n",
    "\n",
    "A common task in computing to repeat a calculation multiple times. In Python this is most frequently done using a loop statement.  The `for` keyword\n",
    "is used to set up a loop.\n",
    "\n",
    "In Python, indentation is used to indicate scope.\n",
    "```python\n",
    "if name == \"Bob\":               # check if the variable name refers to the string \"bob\"\n",
    "    print(\"Found bob\")          # if so print a message\n",
    "    found_it = True\n",
    "else:                           # otherwise\n",
    "    print(\"Yes we have no Bob\") # print a different message\n",
    "```\n",
    "In the above code fragment, the `:` indicates that it is necessary to create a local scope.  Everything that is indented below the first line is only executed if the comparison succeeds. Everything in the indented section is local to that section.  Once the program leaves that `scope`, any variables\n",
    "assigned in that scope (`found_it`) are lost.\n"
   ]
  },
  {
   "cell_type": "markdown",
   "id": "0a5a201b-8d81-4379-af1e-299c6d6d8a72",
   "metadata": {},
   "source": [
    "## Excercises"
   ]
  },
  {
   "cell_type": "code",
   "execution_count": 15,
   "id": "28f5b696-73e3-4436-bb0e-57955ef03209",
   "metadata": {},
   "outputs": [
    {
     "name": "stdout",
     "output_type": "stream",
     "text": [
      "The value of a is 10\n"
     ]
    }
   ],
   "source": [
    "#\n",
    "# complete the following code to make it loop 10 times\n",
    "# the code should print out \"The value of a is 10\"\n",
    "#\n",
    "a = 1\n",
    "for i in range(?):\n",
    "    a = a + ?\n",
    "print(f\"The value of a is {a}\")"
   ]
  },
  {
   "cell_type": "code",
   "execution_count": null,
   "id": "6aeee280-ea84-4f19-81f4-1a5203977995",
   "metadata": {},
   "outputs": [],
   "source": [
    "#\n",
    "# complete the following code to sum up the numbers from 1 to 100 using a loop\n",
    "# the code should print out \"The total is 5050\"\n",
    "#\n",
    "sum = 0\n",
    "for n in range():\n",
    "    ...\n",
    "print(f\"The total is {sum}\")"
   ]
  },
  {
   "cell_type": "code",
   "execution_count": null,
   "id": "abbe628b-34ed-4ee6-87fb-36a45107f3e7",
   "metadata": {},
   "outputs": [],
   "source": [
    "#\n",
    "# create a list of the first 10 numbers starting from 1\n",
    "#\n",
    "the_list = ?\n",
    "for n in range(?):\n",
    "    ...\n",
    "\n",
    "#\n",
    "# now print the second through fourth elements of the list\n",
    "\n",
    "print(the_list[?])"
   ]
  },
  {
   "cell_type": "markdown",
   "id": "4413fae1-6f50-4914-8e3a-2d5415e2b46c",
   "metadata": {},
   "source": [
    "## Functions\n",
    "\n",
    "A function is a piece of code that executes a small bit of computing.  Typically we write functions when we have something that\n",
    "will be re-used many time.\n",
    "\n",
    "Here is an example of a Python function:\n",
    "\n",
    "```python\n",
    "def say_hello(name = \"World\"):\n",
    "    print(f\"Hello, {name}!\")\n",
    "```\n",
    "This function takes in some information, represented by the *parameter* `name`.  `name` has a default value of \"World\", but can be assigned any name we want.  It then prints out a string in the form `Hello, world!`.\n",
    "\n",
    "Here is how we might call the function:\n",
    "```python\n",
    "say_hello(\"Bill\")\n",
    "```\n",
    "This will print out `Hello, Bill!`\n",
    "\n",
    "As an exercise, create a function that takes in a value and returns its square.  Then use it to calculate the square of 25."
   ]
  },
  {
   "cell_type": "code",
   "execution_count": null,
   "id": "d3cb753b-966c-485f-8f19-c5d6dc1161d1",
   "metadata": {},
   "outputs": [],
   "source": [
    "#\n",
    "# write a function to calculate the square of a number\n",
    "# this should print out \"The square of 25 is 625\"\n",
    "#\n",
    "def square(value):\n",
    "    ...\n",
    "\n",
    "#\n",
    "# calculate the square of 25\n",
    "#\n",
    "print(f\"The square of 25 is {square(25)}\")"
   ]
  },
  {
   "cell_type": "code",
   "execution_count": null,
   "id": "b93bf203-0d17-46e4-9b8a-de40cbafc066",
   "metadata": {},
   "outputs": [],
   "source": [
    "# \n",
    "# write a function to convert a string into a list\n",
    "# hint: take advantage of the builtin string capability: the split method\n",
    "# the answer should be \"The string has been turned into a list of 4 elements\"\n",
    "# \n",
    "a_string = \"bob;carol;ted;alice\"\n",
    "\n",
    "def string_to_list(s):\n",
    "    ...\n",
    "\n",
    "a_list = string_to_list(a_string)\n",
    "\n",
    "print(f\"The string has been turned into a list of {len(a_list)} elements\")"
   ]
  },
  {
   "cell_type": "code",
   "execution_count": null,
   "id": "380391f7-31a7-481d-9b80-e1de2b093c15",
   "metadata": {},
   "outputs": [],
   "source": [
    "#\n",
    "# create a function that takes two lists as input.  \n",
    "# The first list contains the following names: \"David\", \"Carolyn\", \"Jim\", \"Jun\"\n",
    "# The second list contains the following ages: 85, 24, 63, 33\n",
    "# The output of the function should be a dictionary mapping each name as a key to its corresponding value (age)\n",
    "#\n",
    "def create_age_table( ?, ?):\n",
    "    ...\n",
    "    return ?"
   ]
  },
  {
   "cell_type": "markdown",
   "id": "31bc6798-3769-418b-ac46-e598efcd0a63",
   "metadata": {},
   "source": [
    "## Modules\n",
    "\n",
    "In Python, code that is not in notebooks is stored in files as \"modules\".  Each module serves as a namespace that allows one to \n",
    "refer to the functions and classes defined in that module.  This tutorial directory has two Python modules: `hello.py` and `utils.py`. \n",
    "\n",
    "If you open `utils.py`, you will see several functions.  For example, `bag_wget`.  If you wanted to use this function in your notebook or in \n",
    "your own python module, you would use something like the following code:\n",
    "\n",
    "```python\n",
    "import utils\n",
    "\n",
    "f = utils.bag_wget(the_url_of_the_file_on_the_web, the_place_to_write_the_file)\n",
    "```\n",
    "\n",
    "You could also do this:\n",
    "```python\n",
    "from utils import bag_wget\n",
    "\n",
    "f = bag_wget(the_url_of_the_file_on_the_web, the_place_to_write_the_file)\n",
    "```\n"
   ]
  },
  {
   "cell_type": "markdown",
   "id": "6e76d622-3ac5-45be-9c63-e195f5ee8535",
   "metadata": {},
   "source": [
    "## Packages\n",
    "\n",
    "In Python, a `package` is a collection of one or more modules that exports functionality.  For example, there is a package to use zip files called `zipfiles`.  There is another package to manipulate directory and files paths called `pathlib`.\n",
    "\n",
    "The Python standard library comes with many, manyu packages.  Indeed, one of the strengths of Python is that is said to have \"batteries included\" since the library includes packages that can handle most computing tasks.  \n",
    "\n",
    "Python also has access to hundreds of thousands of packages through the [Python Package Index](https://pypi.org/) and other sources, such as [Conda Forge](https://conda-forge.org/packages/).\n",
    "\n",
    "To install a package from conda-forge we use `conda install -c conda-forge the_name_of_the_package`\n",
    "\n",
    "To install a package from the Python Package Index, we use `pip install the_name_of_the_package`\n",
    "\n",
    "Once a package is installed, it can be imported.  Even  packages that are pre-installed in the standard library, it is necessary to import them before use.  \n",
    "\n",
    "The following code demonstrates what can be done by importing both an installed third party package (`pandas`) and a type from a builtin package (`pathlib`)."
   ]
  },
  {
   "cell_type": "code",
   "execution_count": null,
   "id": "3cdeaea5-c907-4cd8-8d14-a54442634363",
   "metadata": {},
   "outputs": [],
   "source": [
    "import pandas as pd\n",
    "from pathlib import Path\n",
    "\n",
    "data_path = Path(\"data\")                            # create a Path corresponding to the data directory\n",
    "data_files = data_path.iterdir()                    # get a function that returns the files in the directory one by one\n",
    "for file in data_files:                             # loop through the files, one at a time\n",
    "    if file.suffix == '.xlsx':                      # if the file name has an Excel file suffixxe\n",
    "        print(f\"I found an Excel file: `{file}`\")   # let everyone know\n",
    "        print()\n",
    "    elif file.suffix == '.csv':                     # otherwise if the file has a .csv suffix\n",
    "        data = pd.read_csv(file)                    # use pandas to read in the file as a DataFrame assigned to variable 'data'\n",
    "        print(f\"I found a CSV file: `{file}`\")\n",
    "        print()\n",
    "        print(data.head())                           # as data to give us the first few elements of the DataFrame\n",
    "        print()"
   ]
  }
 ],
 "metadata": {
  "kernelspec": {
   "display_name": "Python 3 (ipykernel)",
   "language": "python",
   "name": "python3"
  },
  "language_info": {
   "codemirror_mode": {
    "name": "ipython",
    "version": 3
   },
   "file_extension": ".py",
   "mimetype": "text/x-python",
   "name": "python",
   "nbconvert_exporter": "python",
   "pygments_lexer": "ipython3",
   "version": "3.12.2"
  },
  "widgets": {
   "application/vnd.jupyter.widget-state+json": {
    "state": {},
    "version_major": 2,
    "version_minor": 0
   }
  }
 },
 "nbformat": 4,
 "nbformat_minor": 5
}
