{
 "cells": [
  {
   "cell_type": "markdown",
   "id": "d493d07f-dea8-47b1-99ca-38b7d482e498",
   "metadata": {},
   "source": [
    "# Pandas intro\n",
    "\n",
    "The most common way for data to be stored and displayed is using spreadsheets, such as Excel.  In an Excel file, data is organized into \n",
    "columns and rows. In data science, the concept of spreadsheets is expressed as data frames, which are like Excel pages that can be manipulated \n",
    "using code.  Both R and Python make use of data frames as fundamental building blocks for analysis.\n",
    "\n",
    "In python, the most widely used package for data frame work is [pandas](https://pandas.pydata.org/).  It is ubiquitous in Python data science applications.  When doing single cell RNA seq analysis in Python, the main tool is [scanpy](https://scanpy.readthedocs.io/en/stable/index.html), which is built around the [AnnData](https://anndata.readthedocs.io/en/latest/) data type.  AnnData objects use pandas style DataFrames to hold both gene and cell data as well as a matrix representing gene expression per cell.  So, in order to be able to work with AnnData objects, it is necessary to have some understanding of pandas datatypes.\n",
    "\n",
    "## Online pandas tutorials\n",
    "\n",
    "I highly recommend the free YouTube tutorials by [Corey Schafer](https://www.youtube.com/watch?v=ZyhVh-qRZPA&list=PL-osiE80TeTsWmV9i9c58mdDCSskIFdDS). \n",
    "They should provide you with everything you need to work with pandas data frames.  He also has excellent videos on related topics including \n",
    "Python programming."
   ]
  },
  {
   "cell_type": "markdown",
   "id": "0db548fe-faa7-47e5-bad9-145ec3abb654",
   "metadata": {},
   "source": [
    "## Exercises"
   ]
  },
  {
   "cell_type": "code",
   "execution_count": null,
   "id": "a429e818-edf9-4872-aa2f-3ca2a0209c5d",
   "metadata": {},
   "outputs": [],
   "source": [
    "#\n",
    "# load pandas into this notebook\n",
    "# use it to read in a data file located at \"data/folks.csv\"\n",
    "# show the first few rows of data\n",
    "#"
   ]
  },
  {
   "cell_type": "code",
   "execution_count": 32,
   "id": "e1c8aac5-a07f-48d7-9b6e-356b0a99ee9b",
   "metadata": {},
   "outputs": [
    {
     "data": {
      "text/html": [
       "<div>\n",
       "<style scoped>\n",
       "    .dataframe tbody tr th:only-of-type {\n",
       "        vertical-align: middle;\n",
       "    }\n",
       "\n",
       "    .dataframe tbody tr th {\n",
       "        vertical-align: top;\n",
       "    }\n",
       "\n",
       "    .dataframe thead th {\n",
       "        text-align: right;\n",
       "    }\n",
       "</style>\n",
       "<table border=\"1\" class=\"dataframe\">\n",
       "  <thead>\n",
       "    <tr style=\"text-align: right;\">\n",
       "      <th></th>\n",
       "      <th>First Name</th>\n",
       "      <th>Last Name</th>\n",
       "      <th>Occupation</th>\n",
       "      <th>Sex</th>\n",
       "      <th>Age</th>\n",
       "      <th>Weight</th>\n",
       "      <th>Income</th>\n",
       "    </tr>\n",
       "  </thead>\n",
       "  <tbody>\n",
       "    <tr>\n",
       "      <th>0</th>\n",
       "      <td>Ted</td>\n",
       "      <td>Turner</td>\n",
       "      <td>Tinker</td>\n",
       "      <td>Male</td>\n",
       "      <td>33</td>\n",
       "      <td>70</td>\n",
       "      <td>50000</td>\n",
       "    </tr>\n",
       "    <tr>\n",
       "      <th>1</th>\n",
       "      <td>Carol</td>\n",
       "      <td>King</td>\n",
       "      <td>Tailor</td>\n",
       "      <td>Female</td>\n",
       "      <td>27</td>\n",
       "      <td>50</td>\n",
       "      <td>60000</td>\n",
       "    </tr>\n",
       "    <tr>\n",
       "      <th>2</th>\n",
       "      <td>Alice</td>\n",
       "      <td>Toklas</td>\n",
       "      <td>Soldier</td>\n",
       "      <td>Female</td>\n",
       "      <td>48</td>\n",
       "      <td>60</td>\n",
       "      <td>70000</td>\n",
       "    </tr>\n",
       "    <tr>\n",
       "      <th>3</th>\n",
       "      <td>Bob</td>\n",
       "      <td>Barker</td>\n",
       "      <td>Spy</td>\n",
       "      <td>Male</td>\n",
       "      <td>61</td>\n",
       "      <td>80</td>\n",
       "      <td>55000</td>\n",
       "    </tr>\n",
       "  </tbody>\n",
       "</table>\n",
       "</div>"
      ],
      "text/plain": [
       "  First Name Last Name Occupation     Sex  Age  Weight  Income\n",
       "0        Ted    Turner     Tinker    Male   33      70   50000\n",
       "1      Carol      King     Tailor  Female   27      50   60000\n",
       "2      Alice    Toklas    Soldier  Female   48      60   70000\n",
       "3        Bob    Barker        Spy    Male   61      80   55000"
      ]
     },
     "execution_count": 32,
     "metadata": {},
     "output_type": "execute_result"
    }
   ],
   "source": [
    "import pandas as pd\n",
    "df = ?\n",
    "df.?"
   ]
  },
  {
   "cell_type": "code",
   "execution_count": null,
   "id": "114f1526-0d42-4d90-9846-9223bb43d2a3",
   "metadata": {},
   "outputs": [],
   "source": [
    "#\n",
    "# using the above data frame, change the column title \"Income\" to lower case\n",
    "#"
   ]
  },
  {
   "cell_type": "code",
   "execution_count": 33,
   "id": "5e6ab1ab-a8e7-45ff-8505-0717b2cd0b5b",
   "metadata": {},
   "outputs": [],
   "source": [
    "#\n",
    "# Create a new column called \"Full Name\" from the \"First Name\" and \"Last Name\" columns\n",
    "#"
   ]
  },
  {
   "cell_type": "code",
   "execution_count": null,
   "id": "9a2a2854-42ca-4800-8674-ed4f00b107ac",
   "metadata": {},
   "outputs": [],
   "source": [
    "#\n",
    "# Create a new column calls \"Is A Spy\". It's elements should be True if Occupation is \"Spy\", False otherwise.\n",
    "#"
   ]
  },
  {
   "cell_type": "code",
   "execution_count": 34,
   "id": "bbf655e4-10b6-4915-b5af-04aabecc9dbe",
   "metadata": {},
   "outputs": [],
   "source": [
    "#\n",
    "# Find the \"Full Name\" and \"Sex\" of those with salaries greater than 50000\n",
    "#"
   ]
  },
  {
   "cell_type": "code",
   "execution_count": null,
   "id": "2df8a1a8-2017-4182-a4d2-e524b175d96b",
   "metadata": {},
   "outputs": [],
   "source": [
    "#\n",
    "# format the income column by converting all of its elements to dollar values in the form \"$50,000\" or \"50 000$\"\n",
    "#"
   ]
  }
 ],
 "metadata": {
  "kernelspec": {
   "display_name": "Python 3 (ipykernel)",
   "language": "python",
   "name": "python3"
  },
  "language_info": {
   "codemirror_mode": {
    "name": "ipython",
    "version": 3
   },
   "file_extension": ".py",
   "mimetype": "text/x-python",
   "name": "python",
   "nbconvert_exporter": "python",
   "pygments_lexer": "ipython3",
   "version": "3.12.2"
  },
  "widgets": {
   "application/vnd.jupyter.widget-state+json": {
    "state": {},
    "version_major": 2,
    "version_minor": 0
   }
  }
 },
 "nbformat": 4,
 "nbformat_minor": 5
}
